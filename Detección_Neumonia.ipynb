{
  "nbformat": 4,
  "nbformat_minor": 0,
  "metadata": {
    "colab": {
      "name": "RIIAA 20-Detección Neumonia.ipynb",
      "provenance": [],
      "collapsed_sections": []
    },
    "kernelspec": {
      "name": "python3",
      "display_name": "Python 3"
    },
    "accelerator": "GPU"
  },
  "cells": [
    {
      "cell_type": "markdown",
      "metadata": {
        "id": "mN0YizjQ9tFX",
        "colab_type": "text"
      },
      "source": [
        "## Escuela de verano RIIAA\n",
        "### CNN para la detección de neumonía"
      ]
    },
    {
      "cell_type": "markdown",
      "metadata": {
        "id": "pkj7An36-uF5",
        "colab_type": "text"
      },
      "source": [
        "[![Open In Colab](https://colab.research.google.com/assets/colab-badge.svg)](https://colab.research.google.com/github/googlecolab/colabtools/blob/master/notebooks/colab-github-demo.ipynb)\n"
      ]
    },
    {
      "cell_type": "code",
      "metadata": {
        "id": "dLcoHi7T3M78",
        "colab_type": "code",
        "colab": {}
      },
      "source": [
        "# Accediendo a Google Drive\n",
        "from google.colab import drive\n",
        "drive.mount('/content/drive')"
      ],
      "execution_count": null,
      "outputs": []
    },
    {
      "cell_type": "code",
      "metadata": {
        "id": "tQU5pOe-3SIt",
        "colab_type": "code",
        "colab": {}
      },
      "source": [
        "# Copiamos los archivos de Drive al entorno de Colab\n",
        "!cp \"____\" \"Neumonia_Dataset.zip\"\n",
        "!unzip -uq \"Neumonia_Dataset.zip\""
      ],
      "execution_count": null,
      "outputs": []
    },
    {
      "cell_type": "code",
      "metadata": {
        "id": "BKYZblKxf6OL",
        "colab_type": "code",
        "colab": {}
      },
      "source": [
        "# Bibliotecas a emplear\n",
        "import os\n",
        "import cv2\n",
        "import keras\n",
        "import numpy as np\n",
        "from keras.preprocessing.image import ImageDataGenerator\n",
        "from ____ import ____\n",
        "from ____ import ____\n",
        "import matplotlib.pyplot as plt"
      ],
      "execution_count": null,
      "outputs": []
    },
    {
      "cell_type": "code",
      "metadata": {
        "id": "deGsd93ChxWW",
        "colab_type": "code",
        "colab": {}
      },
      "source": [
        "# Definir las rutas donde estan las imagenes\n",
        "train_folder= '/content/Neumonia_Dataset/train'\n",
        "val_folder = '/content/Neumonia_Dataset/val'\n",
        "test_folder = '/content/Neumonia_Dataset/test'"
      ],
      "execution_count": null,
      "outputs": []
    },
    {
      "cell_type": "code",
      "metadata": {
        "id": "xGLu8oYjliRG",
        "colab_type": "code",
        "colab": {}
      },
      "source": [
        "# Se toman 4 imagenes de forma aleatoria\n",
        "os.listdir(train_folder)\n",
        "train_sanas = ____+'/NORMAL/'\n",
        "train_neum = ____+'/PNEUMONIA/'\n",
        "img_sanas = []\n",
        "img_neumonia = []\n",
        "for i in ____(4):\n",
        "    num_alea = np.random.randint(len(os.listdir(train_sanas)))\n",
        "    img_sanas.append(train_sanas + os.listdir(train_sanas)[num_alea])\n",
        "    img_neumonia.append(train_neum + os.listdir(train_neum)[num_alea])"
      ],
      "execution_count": null,
      "outputs": []
    },
    {
      "cell_type": "code",
      "metadata": {
        "id": "pob4LA4uq4-_",
        "colab_type": "code",
        "colab": {}
      },
      "source": [
        "# Se muestran radiografías de personas con y sin neumonía\n",
        "print('Primer fila: personas sin neumonía')\n",
        "print('Segunda fila: personas con neumonía')\n",
        "plt.rcParams['figure.dpi'] = 150\n",
        "for num_imagen in ____(8):\n",
        "    if num_imagen<4:\n",
        "        imagen = cv2.imread(img_sanas[num_imagen])\n",
        "    else:\n",
        "        imagen = cv2.imread(img_neumonia[num_imagen-4])\n",
        "    plt.subplot(2,4,num_imagen+1)\n",
        "    plt.imshow(____)\n",
        "    plt.axis('off')\n",
        "plt.show()"
      ],
      "execution_count": null,
      "outputs": []
    },
    {
      "cell_type": "code",
      "metadata": {
        "id": "arbunxo2td_n",
        "colab_type": "code",
        "colab": {}
      },
      "source": [
        "# Red neuronal convolucional\n",
        "cnn = models.Sequential()\n",
        "\n",
        "# Capas convolucionales y de pooling\n",
        "cnn.add(layers.____(32, (3, 3), activation=\"relu\", input_shape=(150, 150, 3)))\n",
        "cnn.add(layers.____(pool_size = (2, 2)))\n",
        "cnn.add(layers.____(32, (3, 3), activation=\"relu\"))\n",
        "cnn.add(layers.____(pool_size = (2, 2)))\n",
        "cnn.add(layers.____(32, (3, 3), activation=\"relu\"))\n",
        "cnn.add(layers.____(pool_size = (2, 2)))\n",
        "cnn.add(layers.____())\n",
        "\n",
        "# Capas densamente conectadas\n",
        "cnn.add(layers.____(activation = 'relu', units = 128))\n",
        "cnn.add(layers.____(activation = 'sigmoid', units = 1))\n",
        "\n",
        "# Compilar el modelo neuronal\n",
        "cnn.____(optimizer = 'adam', loss = 'binary_crossentropy', metrics = ['accuracy'])"
      ],
      "execution_count": null,
      "outputs": []
    },
    {
      "cell_type": "code",
      "metadata": {
        "id": "LB_MZ6Mk5WIK",
        "colab_type": "code",
        "colab": {}
      },
      "source": [
        "# Detalle de la red neuronal convolucional\n",
        "cnn.____()"
      ],
      "execution_count": null,
      "outputs": []
    },
    {
      "cell_type": "code",
      "metadata": {
        "id": "WQV293BqtpBC",
        "colab_type": "code",
        "colab": {}
      },
      "source": [
        "# Preprocesamiento de las imagenes\n",
        "train_datagen = ImageDataGenerator(rescale = 1./255,\n",
        "                                   shear_range = 0.2,\n",
        "                                   zoom_range = 0.2,\n",
        "                                   horizontal_flip = True)\n",
        "# Normalización de imagenes\n",
        "test_datagen = ImageDataGenerator(rescale = 1./255)\n",
        "\n",
        "# Generación de los conjuntos de entrenamiento, validación y prrueba\n",
        "training_set = train_datagen.flow_from_directory(train_folder,\n",
        "                                                 target_size = (150, 150),\n",
        "                                                 batch_size = ____,\n",
        "                                                 class_mode = '____')\n",
        "\n",
        "validation_generator = test_datagen.flow_from_directory(val_folder,\n",
        "                                                        target_size =(150, 150),\n",
        "                                                        batch_size = ____,\n",
        "                                                        class_mode = '____')\n",
        "\n",
        "test_set = test_datagen.flow_from_directory(test_folder,\n",
        "                                            target_size = (150, 150),\n",
        "                                            batch_size = ____,\n",
        "                                            class_mode = '____')"
      ],
      "execution_count": null,
      "outputs": []
    },
    {
      "cell_type": "code",
      "metadata": {
        "id": "D0dSUoJ7z9Q5",
        "colab_type": "code",
        "colab": {}
      },
      "source": [
        "cnn_model = cnn.____(training_set,\n",
        "                    steps_per_epoch=____,\n",
        "                    epochs=____,\n",
        "                    validation_data=validation_generator,\n",
        "                    validation_steps=____)"
      ],
      "execution_count": null,
      "outputs": []
    },
    {
      "cell_type": "code",
      "metadata": {
        "id": "To8qCVdk7kVV",
        "colab_type": "code",
        "colab": {}
      },
      "source": [
        "# Graficas de la presición y función de perdida\n",
        "\n",
        "acc = cnn_model.____['accuracy']\n",
        "val_acc = cnn_model.____['val_accuracy']\n",
        "loss = cnn_model.____['loss']\n",
        "val_loss = cnn_model.____['val_loss']\n",
        "\n",
        "epochs = range(len(acc))\n",
        "\n",
        "plt.rcParams['figure.dpi'] = 70\n",
        "plt.plot(____, ____, '-.r*', label='Exactitud en entrenamiento')\n",
        "plt.plot(____, ____, '-.b*', label='Exactitud en validación')\n",
        "plt.title('Exactitud en entrenamiento y validación')\n",
        "plt.legend()\n",
        "plt.figure()\n",
        "\n",
        "plt.plot(epochs, loss, '-.r*', label='Pérdida en entrenamiento')\n",
        "plt.plot(epochs, val_loss, '-.b*', label='Pérdida en validación')\n",
        "plt.title('Pérdida en entrenamiento y validación')\n",
        "plt.legend()\n",
        "\n",
        "plt.show()"
      ],
      "execution_count": null,
      "outputs": []
    },
    {
      "cell_type": "code",
      "metadata": {
        "id": "SB_Pokp076UC",
        "colab_type": "code",
        "colab": {}
      },
      "source": [
        "test_accu = cnn.____(test_set,steps=50)"
      ],
      "execution_count": null,
      "outputs": []
    },
    {
      "cell_type": "code",
      "metadata": {
        "id": "LPeL_peB8CDL",
        "colab_type": "code",
        "colab": {}
      },
      "source": [
        "print('La exactitud en el conjunto de prueba es: ',test_accu[1]*100, '%')"
      ],
      "execution_count": null,
      "outputs": []
    },
    {
      "cell_type": "code",
      "metadata": {
        "id": "bSPXBOPi8Ija",
        "colab_type": "code",
        "colab": {}
      },
      "source": [
        "# Predicción sobre una imagen de prueba\n",
        "\n",
        "#img_ori = cv2.imread('/content/Neumonia_Dataset/test/NORMAL/IM-0011-0001-0002.jpeg')\n",
        "img_ori = cv2.imread('/content/Neumonia_Dataset/test/PNEUMONIA/person119_bacteria_566.jpeg')\n",
        "\n",
        "img_ori = cv2.cvtColor(img_ori, cv2.COLOR_BGR2RGB)\n",
        "img = cv2.____(img_ori, (150, 150), interpolation=cv2.INTER_CUBIC)\n",
        "imagen_a_probar = np.____(img,(1,150, 150, 3))\n",
        "predictions = cnn.____(imagen_a_probar)\n",
        "if(predictions == 0):\n",
        "  print('Persona sin neumonia')\n",
        "else:\n",
        "  print('Persona con neumonia')\n",
        "plt.imshow(img)\n",
        "plt.show()"
      ],
      "execution_count": null,
      "outputs": []
    }
  ]
}